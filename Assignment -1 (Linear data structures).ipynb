{
 "cells": [
  {
   "cell_type": "markdown",
   "id": "021092e7",
   "metadata": {},
   "source": [
    "### Q1. Write a program to find all pairs of an integer array whose sum is equal to a given number?"
   ]
  },
  {
   "cell_type": "code",
   "execution_count": 4,
   "id": "8a4d7de6",
   "metadata": {},
   "outputs": [
    {
     "name": "stdout",
     "output_type": "stream",
     "text": [
      "Enter a list of numbers seperated by spaces:2 4 6 8 9 10 11 12 13 14\n",
      "Enter the target sum:22\n",
      "[(8, 14), (9, 13), (10, 12)]\n"
     ]
    }
   ],
   "source": [
    "def find_pairs(arr,target_sum):\n",
    "    pairs = []\n",
    "    for i in range(len(arr)):\n",
    "        for j in range(i+1,len(arr)):\n",
    "            if arr[i] + arr[j] == target_sum:\n",
    "                pairs.append((arr[i],arr[j]))\n",
    "    return pairs\n",
    "arr = [int(num) for num in input(\"Enter a list of numbers seperated by spaces:\").split()]\n",
    "target_sum =int(input(\"Enter the target sum:\"))\n",
    "result = find_pairs(arr,target_sum)\n",
    "print(result)"
   ]
  },
  {
   "cell_type": "markdown",
   "id": "f5e672a9",
   "metadata": {},
   "source": [
    "### Q2. Write a program to reverse an array in place? In place means you cannot create a new array. You have to update the original array."
   ]
  },
  {
   "cell_type": "code",
   "execution_count": 7,
   "id": "d2572327",
   "metadata": {},
   "outputs": [
    {
     "name": "stdout",
     "output_type": "stream",
     "text": [
      "Enter the elements of the array seperated by spaces:22 33 44 55 66 88 11\n",
      "rev_arr: [11, 88, 66, 55, 44, 33, 22]\n"
     ]
    }
   ],
   "source": [
    "def rev_array(arr):\n",
    "    start = 0\n",
    "    end = len(arr)-1\n",
    "    \n",
    "    while start < end:\n",
    "        arr[start],arr[end] = arr[end],arr[start]\n",
    "        start += 1\n",
    "        end -= 1\n",
    "    \n",
    "input_ = input(\"Enter the elements of the array seperated by spaces:\")\n",
    "ori_arr = [int(x) for x in input_.split()]\n",
    "rev_array(ori_arr)\n",
    "print(\"rev_arr:\",ori_arr)"
   ]
  },
  {
   "cell_type": "markdown",
   "id": "83bf891f",
   "metadata": {},
   "source": [
    "### Q3. Write a program to check if two strings are a rotation of each other?"
   ]
  },
  {
   "cell_type": "code",
   "execution_count": 9,
   "id": "ac203d87",
   "metadata": {},
   "outputs": [
    {
     "name": "stdout",
     "output_type": "stream",
     "text": [
      "Enter the 1st string:EDYODA\n",
      "Enter the 2nd string:AOYDED\n",
      "True\n"
     ]
    }
   ],
   "source": [
    "def is_rotation(str1,str2):\n",
    "    if len(str1) != len(str2):\n",
    "        return False\n",
    "    \n",
    "    temp = str1 + str2\n",
    "    if str2 in temp:\n",
    "        return True\n",
    "    else:\n",
    "        return False\n",
    "\n",
    "str1 = input(\"Enter the 1st string:\")\n",
    "str2 = input(\"Enter the 2nd string:\")\n",
    "print(is_rotation(str1,str2))"
   ]
  },
  {
   "cell_type": "markdown",
   "id": "f3d8d144",
   "metadata": {},
   "source": [
    "### Q4. Write a program to print the first non-repeated character from a string?"
   ]
  },
  {
   "cell_type": "code",
   "execution_count": 14,
   "id": "346a1dca",
   "metadata": {},
   "outputs": [
    {
     "name": "stdout",
     "output_type": "stream",
     "text": [
      "Enter the string : edyoda institute\n",
      "First non repeating character: y\n"
     ]
    }
   ],
   "source": [
    "def to_find(s):\n",
    "    for i in s:\n",
    "        if s.count(i) == 1:\n",
    "            return i\n",
    "    return -1\n",
    "\n",
    "input_ = input(\"Enter the string : \")\n",
    "result = to_find(input_)\n",
    "if result != -1:\n",
    "    print(f\"First non repeating character: {result}\")\n",
    "else:\n",
    "    print(\"Not found any repeat character\")"
   ]
  },
  {
   "cell_type": "markdown",
   "id": "380491ce",
   "metadata": {},
   "source": [
    "### Q5. Read about the Tower of Hanoi algorithm. Write a program to implement it."
   ]
  },
  {
   "cell_type": "code",
   "execution_count": 20,
   "id": "bce1b855",
   "metadata": {},
   "outputs": [
    {
     "name": "stdout",
     "output_type": "stream",
     "text": [
      "Enter the number of disk : 3\n",
      "Move disk 1 from A to C\n",
      "Move disk 2 from A to B\n",
      "Move disk 1 from C to B\n",
      "Move disk 3 from A to C\n",
      "Move disk 1 from B to A\n",
      "Move disk 2 from B to C\n",
      "Move disk 1 from A to C\n"
     ]
    }
   ],
   "source": [
    "def tower_of_hanoi(n,source,auxillary,target):\n",
    "    if n == 1:\n",
    "        print(f\"Move disk {n} from {source} to {target}\")\n",
    "        return\n",
    "    tower_of_hanoi(n-1,source,target,auxillary)\n",
    "    print(f\"Move disk {n} from {source} to {target}\")\n",
    "    tower_of_hanoi(n-1,auxillary,source,target)\n",
    "n = int(input(\"Enter the number of disk : \"))\n",
    "tower_of_hanoi(n,'A','B','C')    "
   ]
  },
  {
   "cell_type": "markdown",
   "id": "99b672f8",
   "metadata": {},
   "source": [
    "### Q6. Read about infix, prefix, and postfix expressions. Write a program to convert postfix to prefix expression."
   ]
  },
  {
   "cell_type": "code",
   "execution_count": 25,
   "id": "3fe44026",
   "metadata": {},
   "outputs": [
    {
     "name": "stdout",
     "output_type": "stream",
     "text": [
      "Enter a postfix expression : 25*\n",
      "Prefix Expression :  *25\n"
     ]
    }
   ],
   "source": [
    "def post_to_pre(postfix_expr):\n",
    "    stack = []\n",
    "    operators = set([\"+\",\"-\",\"*\",\"/\"])\n",
    "    for char in postfix_expr:\n",
    "        if char not in operators:\n",
    "            stack.append(char)\n",
    "        else:\n",
    "            right_operand = stack.pop()\n",
    "            left_operand = stack.pop()\n",
    "            prefix_expr = char + left_operand + right_operand\n",
    "    stack.append(prefix_expr)\n",
    "    return stack[0]\n",
    "\n",
    "postfix_expr = input(\"Enter a postfix expression : \")\n",
    "prefix_expr = post_to_pre(postfix_expr)\n",
    "\n",
    "print(\"Prefix Expression : \",prefix_expr)\n"
   ]
  },
  {
   "cell_type": "markdown",
   "id": "87eae3ab",
   "metadata": {},
   "source": [
    "### Q7. Write a program to convert prefix expression to infix expression."
   ]
  },
  {
   "cell_type": "code",
   "execution_count": 2,
   "id": "1ce5aa3f",
   "metadata": {},
   "outputs": [
    {
     "name": "stdout",
     "output_type": "stream",
     "text": [
      "Enter a prefix expression that u want :*+AF-CZ\n",
      "Infix expression:  ((A+F)*(C-Z))\n"
     ]
    }
   ],
   "source": [
    "def is_operator(char):\n",
    "    return char in \"+-*/^\"\n",
    "def p_to_i(expression):\n",
    "    stack = []\n",
    "    operators = set(\"+-*/^\")\n",
    "\n",
    "    for char in reversed(expression):\n",
    "        if char.isalnum():\n",
    "            stack.append(char)\n",
    "        else:\n",
    "            operand1 = stack.pop()\n",
    "            operand2 = stack.pop()\n",
    "            infix_expr = f\"({operand1}{char}{operand2})\"\n",
    "            stack.append(infix_expr)\n",
    "\n",
    "    if len(stack) == 1:\n",
    "        return stack[0]\n",
    "    else:\n",
    "        raise ValueError (\"Sorry its Invalid prefix expr\")\n",
    "\n",
    "prefix_expr = input(\"Enter a prefix expression that u want :\")\n",
    "infix_expr = p_to_i(prefix_expr)\n",
    "print(\"Infix expression: \",infix_expr)"
   ]
  },
  {
   "cell_type": "markdown",
   "id": "5e9f4397",
   "metadata": {},
   "source": [
    "### Q8. Write a program to check if all the brackets are closed in a given code snippet."
   ]
  },
  {
   "cell_type": "code",
   "execution_count": 3,
   "id": "27b30d13",
   "metadata": {},
   "outputs": [
    {
     "name": "stdout",
     "output_type": "stream",
     "text": [
      "Enter the code snippet: {{(())}}\n",
      "All brackets are properly closed.\n"
     ]
    }
   ],
   "source": [
    "def are_brackets_balanced(code):\n",
    "    stack = []\n",
    "    opening_brackets = \"([{\"\n",
    "    closing_brackets = \")]}\"\n",
    "    bracket_pairs = {\")\": \"(\", \"]\": \"[\", \"}\": \"{\"}\n",
    "\n",
    "    for char in code:\n",
    "        if char in opening_brackets:\n",
    "            stack.append(char)\n",
    "        elif char in closing_brackets:\n",
    "            if not stack or stack[-1] != bracket_pairs[char]:\n",
    "                return False\n",
    "            stack.pop()\n",
    "\n",
    "    return not stack\n",
    "\n",
    "\n",
    "code_snippet = input(\"Enter the code snippet: \")\n",
    "\n",
    "if are_brackets_balanced(code_snippet):\n",
    "    print(\"All brackets are properly closed.\")\n",
    "else:\n",
    "    print(\"Not all brackets are properly closed.\")\n"
   ]
  },
  {
   "cell_type": "markdown",
   "id": "aa27531d",
   "metadata": {},
   "source": [
    "### Q9. Write a program to reverse a stack."
   ]
  },
  {
   "cell_type": "code",
   "execution_count": 4,
   "id": "f95fecdc",
   "metadata": {},
   "outputs": [
    {
     "name": "stdout",
     "output_type": "stream",
     "text": [
      "Please enter the elements to push: 11 22 88 66 55 41 25 96 99\n",
      "The stack:\n",
      "99\n",
      "96\n",
      "25\n",
      "41\n",
      "55\n",
      "66\n",
      "88\n",
      "22\n",
      "11\n",
      "After reversing Stack is below :\n",
      "11\n",
      "22\n",
      "88\n",
      "66\n",
      "55\n",
      "41\n",
      "25\n",
      "96\n",
      "99\n"
     ]
    }
   ],
   "source": [
    "class Stack:\n",
    "    def __init__(self):\n",
    "        self.items = []\n",
    "\n",
    "    def is_empty(self):\n",
    "        return self.items == []\n",
    "\n",
    "    def push(self, data):\n",
    "        self.items.append(data)\n",
    "\n",
    "    def pop(self):\n",
    "        return self.items.pop()\n",
    "\n",
    "    def display(self):\n",
    "        for data in reversed(self.items):\n",
    "            print(data)\n",
    "\n",
    "def insert_at_bottom(s, data):\n",
    "    if s.is_empty():\n",
    "        s.push(data)\n",
    "    else:\n",
    "        popped = s.pop()\n",
    "        insert_at_bottom(s, data)\n",
    "        s.push(popped)\n",
    "\n",
    "\n",
    "def reverse_stack(s):\n",
    "    if not s.is_empty():\n",
    "        popped = s.pop()\n",
    "        reverse_stack(s)\n",
    "        insert_at_bottom(s, popped)\n",
    "\n",
    "\n",
    "s = Stack()\n",
    "data_list = input('Please enter the elements to push: ').split()\n",
    "for data in data_list:\n",
    "    s.push(int(data))\n",
    "\n",
    "print('The stack:')\n",
    "s.display()\n",
    "reverse_stack(s)\n",
    "print('After reversing Stack is below :')\n",
    "s.display()"
   ]
  },
  {
   "cell_type": "markdown",
   "id": "21f03d38",
   "metadata": {},
   "source": [
    "### Q10. Write a program to find the smallest number using a stack."
   ]
  },
  {
   "cell_type": "code",
   "execution_count": 46,
   "id": "81391155",
   "metadata": {},
   "outputs": [
    {
     "name": "stdout",
     "output_type": "stream",
     "text": [
      "Enter the number : 89,54,11,25,47,75\n",
      "Smallest number :  11\n"
     ]
    }
   ],
   "source": [
    "class StackMin:\n",
    "    def __init__(self):\n",
    "        self.stack = []\n",
    "        self.min_stack =[]\n",
    "    def push(self,item):\n",
    "        self.stack.append(item)\n",
    "        if not self.min_stack or item <= self.min_stack[-1]:\n",
    "            self.min_stack.append(item)\n",
    "    def pop(self):\n",
    "        if self.stack:\n",
    "            if self.stack[-1] == self.min_stack[-1]:\n",
    "                self.min_stack.pop()\n",
    "            return self.stack.pop()\n",
    "    def get_min(self):\n",
    "        if self.min_stack:\n",
    "            return self.min_stack[-1]\n",
    "        else:\n",
    "            return None\n",
    "\n",
    "stack =StackMin()\n",
    "input_ = input(\"Enter the number : \")\n",
    "numbers = [int(num.strip())for num in input_.split(',')]\n",
    "for num in numbers:\n",
    "    stack.push(num)\n",
    "if len (stack.stack) > 0:\n",
    "    print(\"Smallest number : \",stack.get_min())\n",
    "else:\n",
    "    print(\"Invalid number enter a new number\")"
   ]
  }
 ],
 "metadata": {
  "kernelspec": {
   "display_name": "Python 3 (ipykernel)",
   "language": "python",
   "name": "python3"
  },
  "language_info": {
   "codemirror_mode": {
    "name": "ipython",
    "version": 3
   },
   "file_extension": ".py",
   "mimetype": "text/x-python",
   "name": "python",
   "nbconvert_exporter": "python",
   "pygments_lexer": "ipython3",
   "version": "3.10.9"
  }
 },
 "nbformat": 4,
 "nbformat_minor": 5
}
